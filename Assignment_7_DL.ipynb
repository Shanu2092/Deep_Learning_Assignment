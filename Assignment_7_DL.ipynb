{
 "cells": [
  {
   "cell_type": "markdown",
   "id": "36ac00bd",
   "metadata": {},
   "source": [
    "## 1. Can you think of a few applications for a sequence-to-sequence RNN? What about a sequence-to-vector RNN, and a vector-to-sequence RNN?\n",
    "\n",
    "        Applications of sequence-to-sequence RNN : \n",
    "                a. Speech Recognition\n",
    "                b. Machine Translation\n",
    "                c. Video Captioning\n",
    "                \n",
    "        Applications of sequence-to-vector RNN :\n",
    "                a. Sentiment Analysis \n",
    "                b. Classifying music genres\n",
    "                c. (Recommender System)\n",
    "                \n",
    "         Applications of vector-to-sequence RNN :\n",
    "                 a. Image Captioning\n",
    "                 b. Locating pedestrians in a picture\n",
    "                 c. Generating music\n",
    "        \n",
    "                "
   ]
  },
  {
   "cell_type": "markdown",
   "id": "1f4dbacd",
   "metadata": {},
   "source": [
    "## 2. How many dimensions must the inputs of an RNN layer have? What does each dimension represent? What about its outputs?\n",
    "\n",
    "        Inputs of an RNN must have three-dimensional layers,the fist dimension is the batch dimension,second represnts the time and third holds the inputs at each time step\n",
    "\n",
    "        "
   ]
  },
  {
   "cell_type": "markdown",
   "id": "91d8b59d",
   "metadata": {},
   "source": [
    "## 3. If you want to build a deep sequence-to-sequence RNN, which RNN layers should have return_sequences=True? What about a sequence-to-vector RNN?\n",
    "\n",
    "        For building deep sequence-to-sequence RNN, return_sequence = True is used.\n",
    "        \n",
    "        For deep sequence-to-vector RNN,return_sequence = True is used except for the top RNN layer,it can either be set return_sequence = False,or left as it is,since it's Falas by default"
   ]
  },
  {
   "cell_type": "markdown",
   "id": "13fe8c1a",
   "metadata": {},
   "source": [
    "## 4. Suppose you have a daily univariate time series, and you want to forecast the next seven days. Which RNN architecture should you use?\n",
    " \n",
    "        LSTM\n",
    "        "
   ]
  },
  {
   "cell_type": "markdown",
   "id": "207cd2a8",
   "metadata": {},
   "source": [
    "## 5. What are the main difficulties when training RNNs? How can you handle them?\n",
    "\n",
    "        Unstable gradients (Exploding and vanishing) and short term memory are two main problems while training RNNs. For unstable gradients,many techniques are used such as,using a small learning rate,or dropout,use gradient clipping, and layer normalization;and for short term memory,LSTM or GRU can be used"
   ]
  },
  {
   "cell_type": "markdown",
   "id": "d74c59cf",
   "metadata": {},
   "source": [
    "## 6. Can you sketch the LSTM cell’s architecture?\n",
    "\n",
    "        i. Forget Gate: LTM goes to forget gate and it forgets information that is not useful.\n",
    "       ii. Learn Gate: Event ( current input ) and STM are combined together so that necessary information that we have recently learned from STM can be applied to the current input.\n",
    "      iii. Remember Gate: LTM information that we haven’t forget and STM and Event are combined together in Remember gate which works as updated LTM.\n",
    "       iv. Use Gate: This gate also uses LTM, STM, and Event to predict the output of the current event which works as an updated STM."
   ]
  },
  {
   "cell_type": "markdown",
   "id": "bb6cd6da",
   "metadata": {},
   "source": [
    "## 7. Why would you want to use 1D convolutional layers in an RNN?\n",
    "\n",
    "        1D convolutional layer has no memory,works very well with parallelization,suffers less from exploding gradient"
   ]
  },
  {
   "cell_type": "markdown",
   "id": "9a498764",
   "metadata": {},
   "source": [
    "## 8. Which neural network architecture could you use to classify videos?\n",
    "\n",
    "        Convolutional Neural Network (CNN) and a Recurrent Neural Network (RNN) consisting of GRU layers"
   ]
  },
  {
   "cell_type": "markdown",
   "id": "3cec1a9e",
   "metadata": {},
   "source": [
    "## 9. Train a classification model for the SketchRNN dataset, available in TensorFlow Datasets.\n",
    "\n",
    "        "
   ]
  },
  {
   "cell_type": "code",
   "execution_count": null,
   "id": "9c011aa7",
   "metadata": {},
   "outputs": [],
   "source": []
  },
  {
   "cell_type": "code",
   "execution_count": null,
   "id": "8c790009",
   "metadata": {},
   "outputs": [],
   "source": []
  },
  {
   "cell_type": "code",
   "execution_count": null,
   "id": "2264cec6",
   "metadata": {},
   "outputs": [],
   "source": []
  }
 ],
 "metadata": {
  "kernelspec": {
   "display_name": "Python 3 (ipykernel)",
   "language": "python",
   "name": "python3"
  },
  "language_info": {
   "codemirror_mode": {
    "name": "ipython",
    "version": 3
   },
   "file_extension": ".py",
   "mimetype": "text/x-python",
   "name": "python",
   "nbconvert_exporter": "python",
   "pygments_lexer": "ipython3",
   "version": "3.9.7"
  }
 },
 "nbformat": 4,
 "nbformat_minor": 5
}

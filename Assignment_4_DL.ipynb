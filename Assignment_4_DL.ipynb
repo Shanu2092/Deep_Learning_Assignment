{
 "cells": [
  {
   "cell_type": "markdown",
   "id": "773906b8",
   "metadata": {},
   "source": [
    "1. How would you describe TensorFlow in a short sentence? What are its main features? Can you name other popular Deep Learning libraries?\n",
    "\n",
    "Ans. \n",
    "\n",
    "A. TensorFlow is an end-to-end open source platform for machine learning\n",
    "\n",
    "B. Features of TensorFlow :\n",
    "\n",
    "    1. Easy model building with high level API like Keras\n",
    "    2. Easy to run\n",
    "    3. Open Source\n",
    "    \n",
    "C. Apart from TensorFlow,Theano,PyTorch and Chainer are widely used libraries for DeepLearning\n",
    "  "
   ]
  },
  {
   "cell_type": "markdown",
   "id": "f75be3cd",
   "metadata": {},
   "source": [
    "2. Is TensorFlow a drop-in replacement for NumPy? What are the main differences between the two?\n",
    "\n",
    "Ans. \n",
    "\n",
    "TensorFlow was developed with the intention of giving a direction to Deep Learning Projects,NumPy is the foundation for many other libraries,it will be a overstatement to call TensorFlow a drop-in replacement for NumPy.  "
   ]
  },
  {
   "cell_type": "markdown",
   "id": "88cf34c7",
   "metadata": {},
   "source": [
    "3. Do you get the same result with tf.range(10) and tf.constant(np.arange(10))?\n",
    "\n",
    "Ans. \n",
    "\n",
    "tf.constant(np.arange(10)) and tf.range(10) have the same dtypes but the former has int64 dtype and the latter has int32 dtype"
   ]
  },
  {
   "cell_type": "markdown",
   "id": "cf0fa04f",
   "metadata": {},
   "source": [
    "4. Can you name six other data structures available in TensorFlow, beyond regular tensors?\n",
    "\n",
    "Ans. \n",
    "1. Sparce tensors(tf.SparceTensor)\n",
    "2. Tensor arrays (tf.TensorArray)\n",
    "3. Ragged tensors(tf.RaggedTensor)\n",
    "4. String tensors(tf.string)\n",
    "5. sets(tf.sets)\n",
    "6. Queues(tf.queue)\n"
   ]
  },
  {
   "cell_type": "markdown",
   "id": "a6523cfc",
   "metadata": {},
   "source": [
    "5. A custom loss function can be defined by writing a function or by subclassing the keras.losses.Loss class. When would you use each option?\n",
    "\n",
    "Ans.\n",
    "\n",
    "A custom loss fuunction can be defined when the data is noisy even after removing and treating the outliers.When this custom loss function is saved,the threshold is not saved with it,which means that we will have to specify the threshold value every time we load this model;that is when keras.losses.Loss class comes into picture,it's get_config method returns a dictionary mapping each hyperparameter name to it's value\n",
    "\n"
   ]
  },
  {
   "cell_type": "markdown",
   "id": "18ee9821",
   "metadata": {},
   "source": [
    "6. Similarly, a custom metric can be defined in a function or a subclass of keras.metrics.Metric. When would you use each option?\n",
    "\n",
    "Ans. \n",
    "\n",
    "A custom metric works fine,where keras will keep record of the metric and mean,but in some cases like binary classification precision,keras.metrics.Metric is preferred"
   ]
  },
  {
   "cell_type": "markdown",
   "id": "54d6238c",
   "metadata": {},
   "source": [
    "7. When should you create a custom layer versus a custom model?\n",
    "\n",
    "Ans. \n",
    "\n",
    "Custom layer is used when building an architecture whose default implementation is not available at TensorFlow,custom models are used for problems and datsets which relatively unique."
   ]
  },
  {
   "cell_type": "markdown",
   "id": "0ca371b1",
   "metadata": {},
   "source": [
    "8. What are some use cases that require writing your own custom training loop?\n",
    "\n",
    "Ans. \n",
    "\n",
    "custom training loop when he arcitechture requires more flexibility\n"
   ]
  },
  {
   "cell_type": "markdown",
   "id": "4a5f0eef",
   "metadata": {},
   "source": [
    "9. Can custom Keras components contain arbitrary Python code, or must they be convertible to TF Functions?\n",
    "\n",
    "Ans. \n",
    "\n",
    " Custom Keras components should be convertible to TF Functions, which means they should stick to TF operations as much as possible and respect all the rules listed in “TF Function Rules”. If you absolutely need to include arbitrary Python code in a custom component, you can either wrap it in a tf.py_function() operation (but this will reduce performance and limit your model’s portability) or set dynamic=True when creating the custom layer or model (or set run_eagerly=True when calling the model’s compile() method).\n"
   ]
  },
  {
   "cell_type": "raw",
   "id": "7a2ac609",
   "metadata": {},
   "source": [
    "10. What are the main rules to respect if you want a function to be convertible to a TF Function?\n",
    "\n",
    "\n",
    "Ans. \n",
    "\n",
    "a. Debug in eager mode, then decorate with @tf.function.\n",
    "\n",
    "b. Don't rely on Python side effects like object mutation or list appends.\n",
    "\n",
    "c. tf.function works best with TensorFlow ops; NumPy and Python calls are converted to constants."
   ]
  },
  {
   "cell_type": "markdown",
   "id": "c8a51431",
   "metadata": {},
   "source": [
    "11. When would you need to create a dynamic Keras model? How do you do that? Why not make all your models dynamic?\n",
    "\n",
    "Ans.  Creating a dynamic Keras model can be useful for debugging, as it will not compile any custom component to a TF Function, and you can use any Python debugger to debug your code"
   ]
  },
  {
   "cell_type": "code",
   "execution_count": null,
   "id": "42a22b5a",
   "metadata": {},
   "outputs": [],
   "source": []
  }
 ],
 "metadata": {
  "kernelspec": {
   "display_name": "Python 3 (ipykernel)",
   "language": "python",
   "name": "python3"
  },
  "language_info": {
   "codemirror_mode": {
    "name": "ipython",
    "version": 3
   },
   "file_extension": ".py",
   "mimetype": "text/x-python",
   "name": "python",
   "nbconvert_exporter": "python",
   "pygments_lexer": "ipython3",
   "version": "3.9.7"
  }
 },
 "nbformat": 4,
 "nbformat_minor": 5
}

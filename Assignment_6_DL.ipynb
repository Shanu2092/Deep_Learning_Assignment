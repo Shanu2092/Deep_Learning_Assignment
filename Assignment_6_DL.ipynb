{
 "cells": [
  {
   "cell_type": "markdown",
   "id": "981d0e9b",
   "metadata": {},
   "source": [
    "## 1. What are the advantages of a CNN over a fully connected DNN for image classification?\n",
    "\n",
    "Fully connected DNN works fine for small images,it breaks down for larger image because of the huge number of parameters."
   ]
  },
  {
   "cell_type": "markdown",
   "id": "9d40807a",
   "metadata": {},
   "source": [
    "## 2. Consider a CNN composed of three convolutional layers, each with 3 × 3 kernels, a stride of 2, and \"same\" padding. The lowest layer outputs 100 feature maps, the middle one outputs 200, and the top one outputs 400. The input images are RGB images of 200 × 300 pixels. What is the total number of parameters in the CNN? If we are using 32-bit floats, at least how much RAM will this network require when making a prediction for a single instance? What about when training on a mini-batch of 50 images?\n",
    "\n",
    "Parameters\n",
    "\n",
    "first convolutional layer kernel-size and RGB channels, plus bias: 3 * 3 * 3 + 1 = 28 output feature maps is 100: 28 * 100 = 2800\n",
    "second convolutional layer kernel-size and last feature maps, plus bias: 3 * 3 * 100 + 1 = 901 output feature maps is 200: 901 * 200 = 180200\n",
    "third convolutional layers kernel-size and last feautre maps, plus bias: 3 * 3 * 200 + 1 =1801 output feautre maps is 400: 1801 * 400 = 720400\n",
    "Total parameters is 2800 + 180200 + 720400 = 903400\n",
    "\n",
    "Memories since 32-bit is 4 bytes\n",
    "\n",
    "first convolutional layer one feature map size: 100 * 150 = 15000 total output: 15000 * 100 = 1,500,000\n",
    "second convolutional layer one feature map size: 50 * 75 = 3,750 total output: 3750 * 200 = 750,000\n",
    "third convolutional layer one feature map size: 25 * 38 = 950 total ouput: 950 * 400 = 380, 000\n",
    "(1,500,000 + 750,000 + 380,000) * 4 / 1024 /1024 = 10.032 (MB) 903400 * 4 / 1024 / 1024 = 3.44 (MB) 10.032+ 3.44=13.47(MB)\n",
    "\n",
    "\n",
    "\n",
    "\n"
   ]
  },
  {
   "cell_type": "markdown",
   "id": "71b5ff66",
   "metadata": {},
   "source": [
    "## 3. If your GPU runs out of memory while training a CNN, what are five things you could try to solve the problem?\n",
    "\n",
    "a. Reduce the minin batch size\n",
    "\n",
    "b. Reduce dimensionality using a larger stride in on or more layers\n",
    "\n",
    "c. Remove one or more layers\n",
    "\n",
    "d. Use 16-bit floats istead of 32-bit floats\n",
    "\n",
    "e. Distribute the CNN over multiple devices\n"
   ]
  },
  {
   "cell_type": "markdown",
   "id": "ecb9748a",
   "metadata": {},
   "source": [
    "## 4. Why would you want to add a max pooling layer rather than a convolutional layer with the same stride?\n",
    "\n",
    "Max pooling layer has no parametrs that is why it is preferred over conv. layer\n"
   ]
  },
  {
   "cell_type": "markdown",
   "id": "9748c315",
   "metadata": {},
   "source": [
    "## 5. When would you want to add a local response normalization layer?\n",
    "\n",
    "Normalization has become important for deep neural networks that compensate for the unbounded nature of certain activation functions such as ReLU, ELU.With these activation functions, the output layers are not constrained within a bounded range (such as [-1,1] for tanh), rather they can grow as high as the training allows it"
   ]
  },
  {
   "cell_type": "markdown",
   "id": "a9547554",
   "metadata": {},
   "source": [
    "## 6. Can you name the main innovations in AlexNet, compared to LeNet-5? What about the main innovations in GoogLeNet, ResNet, SENet, and Xception?\n",
    "\n",
    "a. AlexNet :  \n",
    "             \n",
    "             i. Much darker and deeper\n",
    "\n",
    "             ii.First to stack convolution layer directly on top of each other\n",
    "             \n",
    "             \n",
    "b. GoogLeNet : \n",
    "\n",
    "\n",
    "        Introduces inception modules,makes it possible to have much deeper network\n",
    "        \n",
    "\n",
    "c. ResNet : \n",
    "\n",
    "        Introduced skip connections\n",
    "        \n",
    "d. SENet : \n",
    "\n",
    "         SENet adds a small neural network ,called an SE block to ,to every usint in the original architecture i.e.,every inception module or every residual unit\n",
    "         \n",
    "e. Xception : \n",
    "\n",
    "        Extends GoogleNet and ResNet,replaces inception modules with special type of layers called depthwise convolution separation layer"
   ]
  },
  {
   "cell_type": "markdown",
   "id": "a26af25c",
   "metadata": {},
   "source": [
    "## 7. What is a fully convolutional network? How can you convert a dense layer into a convolutional layer?\n",
    "\n",
    "A fully convolutional network is a of network composed exclusively of convolution and pooling layers.\n",
    "\n",
    "A fully convolution network can be built by simply replacing the FC layers with there equivalent Conv layers."
   ]
  },
  {
   "cell_type": "markdown",
   "id": "440e4b8c",
   "metadata": {},
   "source": [
    "## 8. What is the main technical difficulty of semantic segmentation?\n",
    "\n",
    "This difficulty is caused by an ambiguity of boundaries in image space, especially for thin objects such as poles, similar looking objects such as a road and a sidewalk and far away objects."
   ]
  },
  {
   "cell_type": "markdown",
   "id": "66ced17f",
   "metadata": {},
   "source": [
    "## 9. Build your own CNN from scratch and try to achieve the highest possible accuracy on MNIST."
   ]
  },
  {
   "cell_type": "code",
   "execution_count": 4,
   "id": "1a672139",
   "metadata": {},
   "outputs": [],
   "source": [
    "import numpy as np\n",
    "import keras\n",
    "from keras.datasets import mnist\n",
    "from keras.models import Model\n",
    "from keras.layers import Dense, Input\n",
    "from keras.layers import Conv2D, MaxPooling2D, Dropout, Flatten\n",
    "from keras import backend as k"
   ]
  },
  {
   "cell_type": "code",
   "execution_count": 5,
   "id": "0c83273f",
   "metadata": {},
   "outputs": [],
   "source": [
    "(X_train_full,y_train_full),(X_test,y_test) = keras.datasets.mnist.load_data()\n",
    "X_train_full = X_train_full/255\n",
    "X_test = x_test/255\n",
    "X_train, X_valid = X_train_full[:-5000], X_train_full[-5000:]\n",
    "y_train, y_valid = y_train_full[:-5000], y_train_full[-5000:]\n",
    "X_train = X_train[..., np.newaxis]\n",
    "X_valid = X_valid[..., np.newaxis]\n",
    "X_test = X_test[..., np.newaxis]"
   ]
  },
  {
   "cell_type": "code",
   "execution_count": 9,
   "id": "bf2d93cc",
   "metadata": {},
   "outputs": [],
   "source": [
    "import tensorflow as tf"
   ]
  },
  {
   "cell_type": "code",
   "execution_count": null,
   "id": "3d02eac5",
   "metadata": {
    "scrolled": true
   },
   "outputs": [
    {
     "name": "stdout",
     "output_type": "stream",
     "text": [
      "Epoch 1/10\n"
     ]
    }
   ],
   "source": [
    "keras.backend.clear_session()\n",
    "tf.random.set_seed(42)\n",
    "np.random.seed(42)\n",
    "\n",
    "model = keras.models.Sequential([\n",
    "    keras.layers.Conv2D(32, kernel_size=3, padding=\"same\", activation=\"relu\"),\n",
    "    keras.layers.Conv2D(64, kernel_size=3, padding=\"same\", activation=\"relu\"),\n",
    "    keras.layers.MaxPool2D(),\n",
    "    keras.layers.Flatten(),\n",
    "    keras.layers.Dropout(0.25),\n",
    "    keras.layers.Dense(128, activation=\"relu\"),\n",
    "    keras.layers.Dropout(0.5),\n",
    "    keras.layers.Dense(10, activation=\"softmax\")\n",
    "])\n",
    "model.compile(loss=\"sparse_categorical_crossentropy\", optimizer=\"nadam\",\n",
    "              metrics=[\"accuracy\"])\n",
    "\n",
    "model.fit(X_train, y_train, epochs=10, validation_data=(X_valid, y_valid))\n",
    "model.evaluate(X_test, y_test)"
   ]
  },
  {
   "cell_type": "code",
   "execution_count": null,
   "id": "ec9674a0",
   "metadata": {},
   "outputs": [],
   "source": []
  },
  {
   "cell_type": "code",
   "execution_count": null,
   "id": "bef38935",
   "metadata": {},
   "outputs": [],
   "source": []
  },
  {
   "cell_type": "code",
   "execution_count": null,
   "id": "92f31484",
   "metadata": {},
   "outputs": [],
   "source": []
  }
 ],
 "metadata": {
  "kernelspec": {
   "display_name": "Python 3 (ipykernel)",
   "language": "python",
   "name": "python3"
  },
  "language_info": {
   "codemirror_mode": {
    "name": "ipython",
    "version": 3
   },
   "file_extension": ".py",
   "mimetype": "text/x-python",
   "name": "python",
   "nbconvert_exporter": "python",
   "pygments_lexer": "ipython3",
   "version": "3.9.7"
  }
 },
 "nbformat": 4,
 "nbformat_minor": 5
}
